{
 "cells": [
  {
   "cell_type": "code",
   "execution_count": 1,
   "metadata": {},
   "outputs": [],
   "source": [
    "import math\n",
    "import numpy as np\n",
    "from tqdm import tqdm"
   ]
  },
  {
   "cell_type": "code",
   "execution_count": 2,
   "metadata": {},
   "outputs": [
    {
     "data": {
      "text/plain": [
       "{'divide': 'warn', 'over': 'warn', 'under': 'ignore', 'invalid': 'warn'}"
      ]
     },
     "execution_count": 2,
     "metadata": {},
     "output_type": "execute_result"
    }
   ],
   "source": [
    "#warning settings\n",
    "np.seterr(all=\"ignore\") #ignore np warnings, the output will be nan or inf and will be handled correctly in the code. (using np.errstate slows down the code)"
   ]
  },
  {
   "cell_type": "code",
   "execution_count": 3,
   "metadata": {},
   "outputs": [],
   "source": [
    "# Configuration\n",
    "TRAIN_TEST_RATIO=0.8\n",
    "PROBLEM_NUMBER=1"
   ]
  },
  {
   "cell_type": "markdown",
   "metadata": {},
   "source": [
    "### Data Loading and Data Preprocessing"
   ]
  },
  {
   "cell_type": "code",
   "execution_count": 4,
   "metadata": {},
   "outputs": [
    {
     "name": "stdout",
     "output_type": "stream",
     "text": [
      "Problem number: 1, variables: 1, train size: 400, test size: 100\n",
      "Training data: x shape (1, 400), y shape (400,)\n",
      "Testing data: x shape (1, 100), y shape (100,)\n"
     ]
    }
   ],
   "source": [
    "# Load problem data with context manager protocol\n",
    "with np.load(f'data/problem_{PROBLEM_NUMBER}.npz') as problem:\n",
    "    x_1 = problem['x']\n",
    "    y_1 = problem['y']\n",
    "\n",
    "# Shuffle the data\n",
    "permutation = np.random.permutation(len(y_1))\n",
    "x_1 = x_1[:, permutation]\n",
    "y_1 = y_1[permutation]\n",
    "\n",
    "# Determine train test split sizes\n",
    "problem_len=len(y_1)\n",
    "train_size=int(TRAIN_TEST_RATIO*problem_len)\n",
    "\n",
    "# Split data\n",
    "x_train = x_1[:, :train_size]\n",
    "y_train = y_1[:train_size]\n",
    "\n",
    "x_test = x_1[:, train_size:]\n",
    "y_test = y_1[train_size:]\n",
    "\n",
    "\n",
    "# Print dataset information\n",
    "print(f\"Problem number: {PROBLEM_NUMBER}, variables: {x_1.shape[0]}, train size: {train_size}, test size: {problem_len-train_size}\")\n",
    "\n",
    "print(f\"Training data: x shape {x_train.shape}, y shape {y_train.shape}\")\n",
    "print(f\"Testing data: x shape {x_test.shape}, y shape {y_test.shape}\")\n",
    "\n"
   ]
  },
  {
   "cell_type": "markdown",
   "metadata": {},
   "source": [
    "### Numpy functions definition"
   ]
  },
  {
   "cell_type": "code",
   "execution_count": 5,
   "metadata": {},
   "outputs": [],
   "source": [
    "unary_ops = [\n",
    "    np.negative,\n",
    "    np.abs,\n",
    "    np.sqrt,\n",
    "    np.exp,\n",
    "    np.log,\n",
    "    np.sin,\n",
    "    np.cos,\n",
    "    np.tan,\n",
    "    np.arcsin,\n",
    "    np.arccos,\n",
    "    np.arctan,\n",
    "    np.sinh,\n",
    "    np.cosh,\n",
    "    np.tanh,\n",
    "    np.square,\n",
    "    np.cbrt,\n",
    "    np.reciprocal,\n",
    "]\n",
    "\n",
    "binary_ops = [\n",
    "    np.add,\n",
    "    np.subtract,\n",
    "    np.multiply,\n",
    "    np.divide,\n",
    "    np.power,\n",
    "    np.maximum,\n",
    "    np.minimum,\n",
    "    np.mod\n",
    "]"
   ]
  },
  {
   "cell_type": "markdown",
   "metadata": {},
   "source": [
    "### Symbolic Regression Class"
   ]
  },
  {
   "cell_type": "code",
   "execution_count": 6,
   "metadata": {},
   "outputs": [],
   "source": [
    "from tree import Tree\n",
    "\n",
    "class SymbolicRegression:\n",
    "    def __init__(self, population_per_island,island_num, max_generations, mutation_rate, elitism_size, grow_full_ratio,max_mutations,migration_rate,collapse_rate):\n",
    "        self.population_per_island = population_per_island\n",
    "        self.island_num = island_num\n",
    "        self.max_generations = max_generations\n",
    "        self.mutation_rate = mutation_rate\n",
    "        self.elitism_size = elitism_size\n",
    "        self.grow_full_ratio = grow_full_ratio\n",
    "        self.max_mutations = max_mutations\n",
    "        self.unary_ops = unary_ops\n",
    "        self.binary_ops = binary_ops\n",
    "        self.migration_rate=migration_rate\n",
    "        self.best_fitness_history = []\n",
    "     \n",
    "        self.population = [None] * island_num\n",
    "        self.collapse_rate=collapse_rate\n",
    "\n",
    "        for j in range(island_num):\n",
    "            self.population[j] = np.array([\n",
    "                Tree(\"grow\") if i < int(population_per_island * self.grow_full_ratio) else Tree(\"full\") for i in range(population_per_island)\n",
    "            ])\n",
    "\n",
    "        \n",
    "         \n",
    "\n",
    "\n",
    "    # Parents selection methods\n",
    "    def select_parents_fitness_proportional(self, n_elems=2, epsilon=1e-10,island=0):\n",
    "        \"\"\"\n",
    "        Fitness proportional selection method.\n",
    "        Randomly selects n_elems individuals based on their fitness.\n",
    "        Individuals with lower fitness have an higher probability to be selected.\n",
    "        Premature convergence if few individuals have significantly better fitness than others.\n",
    "        n_elems: number of elements to select.\n",
    "        epsilon: small value to avoid division by zero.\n",
    "        island: on which island the selection should be done.\n",
    "        \"\"\"\n",
    "        fitnesses = [tree.fitness for tree in self.population[island]]\n",
    "        inverted_fitnesses = [1 / (fitness + epsilon) for fitness in fitnesses]  # avoid division by zero\n",
    "        probabilities = inverted_fitnesses / sum(inverted_fitnesses)\n",
    "        parent1, parent2 = np.random.choice(self.population[island], size=n_elems, p=probabilities, replace=False)\n",
    "        return parent1, parent2\n",
    "    \n",
    "    def select_parents_lexicase(self, population, num_parents,island_num=0):\n",
    "        selected_parents = []\n",
    "        test_cases = list(range(len(population[island_num].fitness)))  # assuming fitness is a list of test case results\n",
    "\n",
    "        while len(selected_parents) < num_parents:\n",
    "            eligible = population[island_num][:]\n",
    "            np.random.shuffle(test_cases)  # Randomize order of test cases\n",
    "\n",
    "            for test in test_cases:\n",
    "                min_fitness = min(individual.fitness[test] for individual in eligible)\n",
    "                eligible = [individual for individual in eligible if individual.fitness[test] == min_fitness]\n",
    "\n",
    "                if len(eligible) <= 1:\n",
    "                    break\n",
    "\n",
    "            selected_parents.append(eligible[0])  # Select one of the remaining eligible individuals randomly\n",
    "\n",
    "        return selected_parents\n",
    "\n",
    "    def select_parents_rank_based(self, n_elems=2,island=0,exponential=False):\n",
    "        \"\"\"\n",
    "        Rank-based selection method.\n",
    "        Assigns probabilities based on inversed ranks instead of absolute fitness values.\n",
    "        n_elems: number of elements to select.\n",
    "        island: on which island the selection should be done.\n",
    "        exponential: if True, the ranks are raised to the power of the exponential parameter.\n",
    "        \"\"\"\n",
    "        fitnesses = np.array([tree.fitness for tree in self.population[island]])\n",
    "        ranks = np.argsort(fitnesses)\n",
    "        if exponential:\n",
    "            ranks = ranks**exponential\n",
    "        inversed_ranks = len(fitnesses) - ranks\n",
    "        probabilities = inversed_ranks / np.sum(inversed_ranks)\n",
    "        return np.random.choice(self.population[island], n_elems, p=probabilities, replace=False)\n",
    "    \n",
    "    def select_parents_tournament(self,island=0):\n",
    "        \"\"\"\n",
    "        Tournament selection method.\n",
    "        Randomly selects a subset of the population and selects the best individual from the subset.\n",
    "        \"\"\"\n",
    "        tournament_size = 5\n",
    "        tournament = list(np.random.choice(self.population[island], tournament_size, replace=True))\n",
    "        tournament.sort(key=lambda x: x.fitness)\n",
    "        return tournament[0], tournament[1]\n",
    "    \n",
    "    def select_parents(self, island, method=\"rank\"):\n",
    "        \"\"\"\n",
    "        Select parents based on the specified method.\n",
    "        island: on which island the selection should be done\n",
    "        method: which parent selection method to use. Default is \"rank\". Options are \"rank\", \"fitness_proportional\", \"tournament\".\n",
    "        \"\"\"\n",
    "        match method:\n",
    "            case \"rank\":\n",
    "                return self.select_parents_rank_based(island=island)\n",
    "            case \"fitness_proportional\":\n",
    "                return self.select_parents_fitness_proportional(island=island)\n",
    "            case \"tournament\":\n",
    "                return self.select_parents_tournament(island=island)\n",
    "            case _:\n",
    "                return self.select_parents_rank_based(island=island)\n",
    "            \n",
    "\n",
    "    \n",
    "    # Mutation methods\n",
    "    def mutate(self, tree):\n",
    "        if np.random.rand() < 0.5:\n",
    "            tree.mutate_subtree()\n",
    "        else:\n",
    "            mutations = np.random.randint(1, self.max_mutations+1)\n",
    "            tree.mutate_single_node(num_mutations=mutations)\n",
    "        \n",
    "       \n",
    "\n",
    "\n",
    "    # Offsprings generation via mutation and crossover\n",
    "    def offspring_generation(self,island):\n",
    "        new_population = np.array([])\n",
    "\n",
    "        # Elitism   \n",
    "        elite_individuals = self.population[island][:self.elitism_size]\n",
    "        new_population = elite_individuals\n",
    "\n",
    "        # Main loop\n",
    "        while len(new_population) < self.population_per_island//2: \n",
    "            parent1, parent2 = self.select_parents(island=island)\n",
    "            # generate offsprings (one in mutation, two in crossover)\n",
    "            offsprings = np.array([])\n",
    "\n",
    "            if(np.random.rand() < self.mutation_rate):\n",
    "                parent_clone = parent1.copy_tree()\n",
    "                self.mutate(parent_clone)\n",
    "              \n",
    "                parent_clone.compute_fitness()\n",
    "                #if the fitness is valid \n",
    "                if(parent_clone.fitness is not np.inf and parent_clone.fitness is not np.nan):\n",
    "                    #to not re-add the same tree if the mutation was not possible (e.g. the tree is already a leaf and other edge cases)\n",
    "                    if( parent_clone.fitness!=parent1.fitness):\n",
    "                        offsprings = np.append(offsprings, [parent_clone])\n",
    "\n",
    "            else:    \n",
    "                offspring1, offspring2 = parent1.crossover(parent2)\n",
    "                if(offspring1 is not None and offspring2 is not None):\n",
    "               \n",
    "                    offspring1.compute_fitness()\n",
    "                    offspring2.compute_fitness()\n",
    "\n",
    "                    offsprings = np.append(offsprings, [offspring1, offspring2])\n",
    "\n",
    "            # Collapse branch\n",
    "            for offsp in offsprings:\n",
    "                if(np.random.rand() < self.collapse_rate):\n",
    "                    #clone the tree and collapse the branch\n",
    "                    tree_clone = offsp.copy_tree()\n",
    "                \n",
    "                    Tree.collapse_branch(tree_clone.root,force_collapse=True)\n",
    "                    tree_clone.compute_fitness()\n",
    "                    #if the fitness is not nan or inf after collapsing\n",
    "                    if(tree_clone.fitness is not None or tree_clone.fitness is not np.inf and tree_clone.fitness is not np.nan):\n",
    "                            offsp = tree_clone\n",
    "\n",
    "            new_population = np.concatenate((new_population, offsprings))\n",
    "                \n",
    "        return new_population\n",
    "    \n",
    "    # Genetic Algorithm: Evolutionary Process\n",
    "    def evolve(self,verbose=False,use_std_operators=False):\n",
    "        best_tree_island = np.full(self.island_num, None, dtype=object)\n",
    "        best_fitness_island = np.full(self.island_num, np.inf)\n",
    "        global_best_fitness = np.inf\n",
    "        global_best_tree = None\n",
    "        take_over = np.full(self.island_num, False)\n",
    "        # self.population_per_island.sort(key=lambda x: x.fitness) \n",
    "        #numpy sort of population over fitness\n",
    "        for i in range(self.island_num):\n",
    "            self.population[i].sort()\n",
    "      \n",
    "\n",
    "\n",
    "        for generation in tqdm(range(self.max_generations)):\n",
    "           \n",
    "            for i in range(self.island_num):\n",
    "                if take_over[i]:\n",
    "                    # print(f\"Takeover at {generation} gen,island: {i}\")\n",
    "                    self.population[i] = np.unique(self.population[i])\n",
    "                    new_trees = np.array([Tree(\"grow\") for _ in range(self.population_per_island-len(self.population[i]))])\n",
    "                 \n",
    "                    self.population[i] = np.concatenate((self.population[i],new_trees))\n",
    "                    self.population[i].sort()\n",
    "                \n",
    "\n",
    "                if np.random.rand()<self.migration_rate and self.island_num>1:\n",
    "                    #pick a random island to migrate to \n",
    "                    island_to_migrate = np.random.randint(0,self.island_num)\n",
    "                    #select a random number from 0 to the population size of the current island\n",
    "                    random_index = np.random.randint(0,len(self.population[i]))\n",
    "                    \n",
    "                    self.population[island_to_migrate]=np.append(self.population[island_to_migrate],self.population[i][random_index])\n",
    "                    #remove the tree from the current island\n",
    "                    self.population[i]=np.delete(self.population[i],random_index)\n",
    "                    \n",
    "\n",
    "                    if(verbose):\n",
    "                        print(f\"Migration at {generation} gen from {i} to {island_to_migrate}\")\n",
    "\n",
    "\n",
    "                new_population=self.offspring_generation(island=i)\n",
    "                    \n",
    "                self.population[i]=np.concatenate((self.population[i],new_population))\n",
    "                self.population[i].sort()\n",
    "                \n",
    "                generation_best_fitness_island = self.population[i][0].fitness\n",
    "\n",
    "                if generation_best_fitness_island < best_fitness_island[i]:\n",
    "                    best_fitness_island[i] = generation_best_fitness_island\n",
    "                    best_tree_island[i] = self.population[i][0]\n",
    "                    \n",
    "\n",
    "                    if(best_fitness_island[i] < global_best_fitness):\n",
    "                        global_best_fitness = best_fitness_island[i]\n",
    "                        global_best_tree = best_tree_island[i]\n",
    "                        self.best_fitness_history.append((best_fitness_island[i], generation))\n",
    "\n",
    "\n",
    "                #trim the population to the best island_population\n",
    "                self.population[i] = self.population[i][:self.population_per_island]\n",
    "\n",
    "                \n",
    "                \n",
    "                n_best = [elem for elem in self.population[i] if elem.fitness == self.population[i][0].fitness]\n",
    "                take_over[i] = False\n",
    "                if len(n_best) > 0.5 * self.population_per_island:\n",
    "                        take_over[i] = True\n",
    "                        # print(f\"Takeover at {generation} gen\")     \n",
    "                if(generation%100==0 and verbose):\n",
    "                        print(f\"Generation {generation + 1}, Island: {i}, Best Fitness: {best_fitness_island[i]}, Best Formula: {best_tree_island[i].to_np_formula(use_std_operators=use_std_operators)}\")\n",
    "            \n",
    "                if global_best_fitness <= 1e-33:\n",
    "                    break   \n",
    "\n",
    "            if(generation%100==0 and not verbose):\n",
    "                print(f\"Generation {generation + 1}, Best Fitness: {global_best_fitness}, Best Formula: {global_best_tree.to_np_formula(use_std_operators=use_std_operators)}\")\n",
    "\n",
    "        return global_best_tree, global_best_fitness"
   ]
  },
  {
   "cell_type": "markdown",
   "metadata": {},
   "source": [
    "### Problem Definition and Symbolic Regression Initialization"
   ]
  },
  {
   "cell_type": "code",
   "execution_count": 7,
   "metadata": {},
   "outputs": [],
   "source": [
    "# --ISLAND SETTINGS--\n",
    "ISLAND_POPULATION = 70\n",
    "ISLAND_NUM = 4\n",
    "MIGRATION_RATE = 0.0005\n",
    "\n",
    "\n",
    "# --TREE SETTINGS--\n",
    "TREE_MAX_DEPTH = 4\n",
    "TREE_SPAWN_DEPTH = 3 #the max depth at which the tree will be spawned, they can grow up to TREE_MAX_DEPTH\n",
    "\n",
    "\n",
    "\n",
    "# --GENETIC ALGORITHM SETTINGS--\n",
    "MAX_GENERATIONS = 10000\n",
    "ELITISM_SIZE = 1\n",
    "VAR_NUM = x_train.shape[0]\n",
    "CONST_RANGE = 10 # Constats will be in the range [-CONST_RANGE, CONST_RANGE]\n",
    "MAX_MUTATIONS = 3  # Maximum number of mutations in a single mutation operation\n",
    "MUTATION_RATE = 0.35\n",
    "GROW_FULL_RATIO = 0.95\n",
    "COLLAPSE_RATE = 0.3\n",
    "\n",
    "# --DEPTH CHECK--\n",
    "min_depth_data = math.ceil(math.log(x_train.shape[0],2))\n",
    "if(TREE_SPAWN_DEPTH<min_depth_data):\n",
    "    TREE_SPAWN_DEPTH = min_depth_data\n",
    "    print(f\"Spawn depth too low, set to {TREE_SPAWN_DEPTH}\")\n",
    "\n",
    "if(TREE_MAX_DEPTH<TREE_SPAWN_DEPTH):\n",
    "    TREE_MAX_DEPTH = TREE_SPAWN_DEPTH+1\n",
    "    print(f\"Max depth too low, set to {TREE_MAX_DEPTH}\")\n",
    "\n",
    "\n",
    "Tree.set_params(unary_ops, binary_ops, VAR_NUM, CONST_RANGE,TREE_MAX_DEPTH,TREE_SPAWN_DEPTH, x_train, y_train, x_test, y_test)\n",
    "regressor = SymbolicRegression(\n",
    "    ISLAND_POPULATION,\n",
    "    ISLAND_NUM,\n",
    "    MAX_GENERATIONS,\n",
    "    MUTATION_RATE,\n",
    "    ELITISM_SIZE,\n",
    "    GROW_FULL_RATIO,\n",
    "    MAX_MUTATIONS,\n",
    "    MIGRATION_RATE,\n",
    "    COLLAPSE_RATE\n",
    "    \n",
    ")\n",
    "\n"
   ]
  },
  {
   "cell_type": "markdown",
   "metadata": {},
   "source": [
    "### Algorithm Execution and Results Computation"
   ]
  },
  {
   "cell_type": "code",
   "execution_count": null,
   "metadata": {},
   "outputs": [
    {
     "name": "stderr",
     "output_type": "stream",
     "text": [
      "  0%|          | 6/10000 [00:00<05:52, 28.39it/s]"
     ]
    },
    {
     "name": "stdout",
     "output_type": "stream",
     "text": [
      "Generation 1, Island: 0, Best Fitness: 0.001151991906168199, Best Formula: np.tanh(x[0])\n",
      "Generation 1, Island: 1, Best Fitness: 0.0007064160187295818, Best Formula: np.arctan(x[0])\n",
      "Generation 1, Island: 2, Best Fitness: 0.0031535790301909393, Best Formula: np.divide(x[0], np.cosh(np.exp(-9.181085796566244)))\n",
      "Generation 1, Island: 3, Best Fitness: 0.0019198290198681207, Best Formula: np.minimum(np.arctan(np.absolute(x[0])), x[0])\n"
     ]
    },
    {
     "name": "stderr",
     "output_type": "stream",
     "text": [
      "  1%|          | 120/10000 [00:01<01:59, 82.62it/s]"
     ]
    },
    {
     "name": "stdout",
     "output_type": "stream",
     "text": [
      "Generation 101, Island: 0, Best Fitness: 6.129272048012378e-34, Best Formula: np.sin(x[0])\n"
     ]
    },
    {
     "name": "stderr",
     "output_type": "stream",
     "text": [
      "  2%|▏         | 219/10000 [00:02<01:22, 117.98it/s]"
     ]
    },
    {
     "name": "stdout",
     "output_type": "stream",
     "text": [
      "Generation 201, Island: 0, Best Fitness: 6.129272048012378e-34, Best Formula: np.sin(x[0])\n"
     ]
    },
    {
     "name": "stderr",
     "output_type": "stream",
     "text": [
      "  3%|▎         | 315/10000 [00:03<01:31, 105.89it/s]"
     ]
    },
    {
     "name": "stdout",
     "output_type": "stream",
     "text": [
      "Generation 301, Island: 0, Best Fitness: 6.129272048012378e-34, Best Formula: np.sin(x[0])\n"
     ]
    },
    {
     "name": "stderr",
     "output_type": "stream",
     "text": [
      "  4%|▍         | 415/10000 [00:04<01:37, 98.52it/s] "
     ]
    },
    {
     "name": "stdout",
     "output_type": "stream",
     "text": [
      "Generation 401, Island: 0, Best Fitness: 6.129272048012378e-34, Best Formula: np.sin(x[0])\n"
     ]
    },
    {
     "name": "stderr",
     "output_type": "stream",
     "text": [
      "  5%|▌         | 518/10000 [00:05<01:28, 107.20it/s]"
     ]
    },
    {
     "name": "stdout",
     "output_type": "stream",
     "text": [
      "Generation 501, Island: 0, Best Fitness: 6.129272048012378e-34, Best Formula: np.sin(x[0])\n"
     ]
    },
    {
     "name": "stderr",
     "output_type": "stream",
     "text": [
      "  6%|▌         | 618/10000 [00:06<01:28, 105.98it/s]"
     ]
    },
    {
     "name": "stdout",
     "output_type": "stream",
     "text": [
      "Generation 601, Island: 0, Best Fitness: 6.129272048012378e-34, Best Formula: np.sin(x[0])\n"
     ]
    },
    {
     "name": "stderr",
     "output_type": "stream",
     "text": [
      "  7%|▋         | 673/10000 [00:07<01:29, 104.22it/s]"
     ]
    },
    {
     "name": "stdout",
     "output_type": "stream",
     "text": [
      "Migration at 653 gen from 0 to 0\n"
     ]
    },
    {
     "name": "stderr",
     "output_type": "stream",
     "text": [
      "  7%|▋         | 717/10000 [00:07<01:30, 102.75it/s]"
     ]
    },
    {
     "name": "stdout",
     "output_type": "stream",
     "text": [
      "Generation 701, Island: 0, Best Fitness: 6.129272048012378e-34, Best Formula: np.sin(x[0])\n"
     ]
    },
    {
     "name": "stderr",
     "output_type": "stream",
     "text": [
      "  8%|▊         | 763/10000 [00:08<01:26, 106.60it/s]"
     ]
    },
    {
     "name": "stdout",
     "output_type": "stream",
     "text": [
      "Migration at 745 gen from 0 to 2\n"
     ]
    },
    {
     "name": "stderr",
     "output_type": "stream",
     "text": [
      "  8%|▊         | 816/10000 [00:08<01:40, 91.31it/s] "
     ]
    },
    {
     "name": "stdout",
     "output_type": "stream",
     "text": [
      "Generation 801, Island: 0, Best Fitness: 6.129272048012378e-34, Best Formula: np.sin(x[0])\n"
     ]
    },
    {
     "name": "stderr",
     "output_type": "stream",
     "text": [
      "  9%|▉         | 916/10000 [00:09<01:23, 108.35it/s]"
     ]
    },
    {
     "name": "stdout",
     "output_type": "stream",
     "text": [
      "Generation 901, Island: 0, Best Fitness: 6.129272048012378e-34, Best Formula: np.sin(x[0])\n"
     ]
    },
    {
     "name": "stderr",
     "output_type": "stream",
     "text": [
      " 10%|█         | 1013/10000 [00:10<01:20, 110.97it/s]"
     ]
    },
    {
     "name": "stdout",
     "output_type": "stream",
     "text": [
      "Generation 1001, Island: 0, Best Fitness: 6.129272048012378e-34, Best Formula: np.sin(x[0])\n"
     ]
    },
    {
     "name": "stderr",
     "output_type": "stream",
     "text": [
      " 11%|█         | 1093/10000 [00:11<01:20, 110.49it/s]"
     ]
    }
   ],
   "source": [
    "\n",
    "# Execute the algorithm\n",
    "best_tree, best_fitness = regressor.evolve(use_std_operators=False,verbose=True)   #use_std_operators=True to use standard operators (+,-,*,/), use verbose=True to print the best tree for each island every 50 iterations\n",
    "\n",
    "print(f\"\\nTrain Fitness: {best_fitness}\")\n",
    "# Calculate the fitness on original data\n",
    "best_tree.compute_fitness(test=\"test\")\n",
    "\n",
    "\n",
    "\n",
    "\n",
    "print(f\"Test Fitness: {best_tree.fitness}\")\n",
    "print(f\"Train-Test Discrepancy: {best_fitness-best_tree.fitness}\")\n",
    "best_tree.compute_fitness(test=\"all\")\n",
    "print(f\"Global Fitness: {best_tree.fitness}\")\n",
    "\n",
    "\n",
    "#Print the best tree\n",
    "print(f\"Best Fitness History: {[tup[0] for tup in regressor.best_fitness_history]}, changed {len(regressor.best_fitness_history)} times\\n\")\n",
    "\n",
    "print(f\"Best Formula: {best_tree.to_np_formula(use_std_operators=False)}\\n\")\n",
    "print(f\"Best Formula with standard operators: {best_tree.to_np_formula(use_std_operators=True)}\")\n",
    "\n"
   ]
  },
  {
   "cell_type": "markdown",
   "metadata": {},
   "source": [
    "### Best Tree Drawing"
   ]
  },
  {
   "cell_type": "code",
   "execution_count": null,
   "metadata": {},
   "outputs": [],
   "source": [
    "tree_clone = best_tree.copy_tree()  \n",
    "Tree.collapse_branch(tree_clone.root,0,force_collapse=True)\n",
    "tree_clone.compute_fitness()           \n",
    "if(tree_clone.fitness is not None or tree_clone.fitness is not np.inf and tree_clone.fitness is not np.nan):\n",
    "                    best_tree = tree_clone\n",
    "\n",
    "\n",
    "print(f\"Collapsed formula: {best_tree.to_np_formula(use_std_operators=False)}\\n\") #use_std_operators=True to use standard operators (+,-,*,/)\n",
    "print(\"Tree drawing (after collapsing):\")\n",
    "best_tree.add_drawing()\n"
   ]
  },
  {
   "cell_type": "code",
   "execution_count": null,
   "metadata": {},
   "outputs": [],
   "source": [
    "#Print graph of best fitness over generations\n",
    "import matplotlib.pyplot as plt\n",
    "plt.plot([tup[1] for tup in regressor.best_fitness_history], [tup[0] for tup in regressor.best_fitness_history])\n",
    "plt.xlabel('Generation')\n",
    "plt.ylabel('Best Fitness')\n",
    "plt.title('Best Fitness over Generations')\n",
    "plt.show()"
   ]
  },
  {
   "cell_type": "code",
   "execution_count": 106,
   "metadata": {},
   "outputs": [],
   "source": [
    "# Testing: create a tree from a numpy fornmula, collapse the branch, compute the fitness and print the formula\n",
    "# tree2 = Tree.create_tree_from_np_formula(\"np.add(np.arctan(np.add(np.cos(np.add(x[0], -2.643791764058358)), np.absolute(np.add(x[0], -3.1193709482751033)))), np.add(np.add(np.add(np.cos(x[1]), np.cos(x[1])), np.add(np.cos(x[1]), 2.1089875923126202)), np.add(np.add(np.cos(x[1]), np.cos(x[1])), np.add(np.cos(x[1]), np.cos(x[1])))))\")\n",
    "\n",
    "# Tree.collapse_branch(tree2.root,0,force_collapse=True)\n",
    "# tree2.compute_fitness(test=\"all\")\n",
    "# print(f\"Fitness: {tree2.fitness}\")\n",
    "# tree2.add_drawing()\n",
    "\n",
    "# print(tree2.to_np_formula())\n"
   ]
  }
 ],
 "metadata": {
  "kernelspec": {
   "display_name": "my_pytorch_env",
   "language": "python",
   "name": "python3"
  },
  "language_info": {
   "codemirror_mode": {
    "name": "ipython",
    "version": 3
   },
   "file_extension": ".py",
   "mimetype": "text/x-python",
   "name": "python",
   "nbconvert_exporter": "python",
   "pygments_lexer": "ipython3",
   "version": "3.10.16"
  }
 },
 "nbformat": 4,
 "nbformat_minor": 2
}
